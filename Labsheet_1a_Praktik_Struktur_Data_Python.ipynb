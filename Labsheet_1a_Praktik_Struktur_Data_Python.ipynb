{
  "cells": [
    {
      "cell_type": "markdown",
      "metadata": {
        "id": "view-in-github",
        "colab_type": "text"
      },
      "source": [
        "<a href=\"https://colab.research.google.com/github/fajarikasaputra/belajar-html/blob/main/Labsheet_1a_Praktik_Struktur_Data_Python.ipynb\" target=\"_parent\"><img src=\"https://colab.research.google.com/assets/colab-badge.svg\" alt=\"Open In Colab\"/></a>"
      ]
    },
    {
      "cell_type": "markdown",
      "source": [
        "# **Labsheet 1a**"
      ],
      "metadata": {
        "id": "HFaN58slgtgR"
      }
    },
    {
      "cell_type": "markdown",
      "metadata": {
        "id": "tSTHbAA5glZ5"
      },
      "source": [
        "# Jupyter Notebooks\n",
        "\n",
        "**Questions**\n",
        "- How do I use a Jupyter Notebook?\n",
        "\n",
        "**Learning Objectives**:\n",
        "- Launch the Jupyter Notebook, create new notebooks, and exit the Notebook.\n",
        "- Create Markdown cells in a notebook.\n",
        "- Create and run Python cells in a notebook.\n",
        "* * * * *"
      ]
    },
    {
      "cell_type": "markdown",
      "metadata": {
        "id": "-HCJL36IglZ-"
      },
      "source": [
        "## Introduction\n",
        "\n",
        "You've just got a basic intro to programming in python. Now, we are going to get our hands dirty, but...\n",
        "\n",
        "**Don't panic!**"
      ]
    },
    {
      "cell_type": "markdown",
      "metadata": {
        "id": "TneIIhHcglZ_"
      },
      "source": [
        "## Navigating in Jupyter Notebook\n",
        "\n",
        "Jupyter Notebooks have more useful features for interactive use than the standard python interpreter, but they work in the same basic way: you type things and then execute them.\n",
        "\n",
        "Unlike many graphical systems, there is no button to run your code! Instead, **you run code using Shift-Enter**. This also moves you to the next box (or \"cell\") for code below the one you just ran (but this may change in the future).\n",
        "\n",
        "Try to **run the following code using Shift-Enter** now!"
      ]
    },
    {
      "cell_type": "code",
      "execution_count": null,
      "metadata": {
        "id": "dDqVwVDdglaA",
        "colab": {
          "base_uri": "https://localhost:8080/"
        },
        "outputId": "81d0cdf1-4962-4f41-cb1d-123756c9a3d0"
      },
      "outputs": [
        {
          "output_type": "stream",
          "name": "stdout",
          "text": [
            "Hello World!\n"
          ]
        }
      ],
      "source": [
        "print(\"Hello World!\")"
      ]
    },
    {
      "cell_type": "markdown",
      "metadata": {
        "id": "gOIxXA99glaB"
      },
      "source": [
        "If you hit **Enter** only, Jupyter Notebook gives you another line in the current cell.\n",
        "\n",
        "This allows you to compose multi-line commands and submit them to python all at once."
      ]
    },
    {
      "cell_type": "code",
      "execution_count": null,
      "metadata": {
        "id": "cbf7IO94glaC",
        "colab": {
          "base_uri": "https://localhost:8080/"
        },
        "outputId": "e5ba604c-5929-4204-eddb-ae540d0f1af1"
      },
      "outputs": [
        {
          "output_type": "stream",
          "name": "stdout",
          "text": [
            "3\n"
          ]
        }
      ],
      "source": [
        "a = 1 + 2\n",
        "print(a)"
      ]
    },
    {
      "cell_type": "markdown",
      "metadata": {
        "id": "8BmH-dgQglaC"
      },
      "source": [
        "**Control-Enter** executes the cell and does not move to the next cell.\n",
        "\n",
        "You can enter the same line over and over again into the interpreter."
      ]
    },
    {
      "cell_type": "code",
      "execution_count": null,
      "metadata": {
        "id": "YWBg0ZxDglaD"
      },
      "outputs": [],
      "source": [
        "i = 0"
      ]
    },
    {
      "cell_type": "markdown",
      "metadata": {
        "id": "ZerNzXgrglaE"
      },
      "source": [
        "Try entering this cell a few times:"
      ]
    },
    {
      "cell_type": "code",
      "execution_count": null,
      "metadata": {
        "id": "MuienSWyglaE",
        "colab": {
          "base_uri": "https://localhost:8080/"
        },
        "outputId": "82feabf2-a65f-4bf1-b955-b5e407c4ccb2"
      },
      "outputs": [
        {
          "output_type": "stream",
          "name": "stdout",
          "text": [
            "1\n"
          ]
        }
      ],
      "source": [
        "i = i + 1\n",
        "print(i)"
      ]
    },
    {
      "cell_type": "markdown",
      "metadata": {
        "id": "5ZpAbZHqglaF"
      },
      "source": [
        "If you want to create new empty cells, you can use Insert -> Insert Cell Below or use the Insert Cell Below button at the top of the notebook. Try entering a new cell below this one."
      ]
    },
    {
      "cell_type": "markdown",
      "metadata": {
        "id": "0HFw-CIeglaF"
      },
      "source": [
        "You can also split cells by putting your cursor on the line you want to split, and clicking on Edit --> Split cell. Split the cell below after the `c = 2` line"
      ]
    },
    {
      "cell_type": "code",
      "execution_count": null,
      "metadata": {
        "id": "xwi7lZB2glaG"
      },
      "outputs": [],
      "source": [
        "a = 1\n",
        "b = 2\n",
        "c = 2\n",
        "d = a + b + c"
      ]
    },
    {
      "cell_type": "markdown",
      "metadata": {
        "id": "-3_GJ9LiglaG"
      },
      "source": [
        "You merge cells by clicking the Edit --> Merge cell Above / Below. Go back to the cells you split and merge them back into one cell."
      ]
    },
    {
      "cell_type": "markdown",
      "metadata": {
        "id": "XijZFHVyglaG"
      },
      "source": [
        "## Markdown\n",
        "\n",
        "Jupyter notebooks allow you type in markdown as well as code. In fact, this very cell is written in Markdown!\n",
        "\n",
        "Markdown is a lightweight markup language with plain text formatting syntax designed so that it can be converted to HTML and many other formats. Markdown has its own syntax, but it's easy to learn. Here's a [cheatsheet](https://github.com/adam-p/markdown-here/wiki/Markdown-Cheatsheet) that can help.\n",
        "\n",
        "Double click the cell below to see the markdown code rendering the output."
      ]
    },
    {
      "cell_type": "markdown",
      "metadata": {
        "id": "i6Isz_6EglaH"
      },
      "source": [
        "****\n",
        "\n",
        "*   Use asterisks\n",
        "*   to create\n",
        "*   bullet lists.\n",
        "\n",
        "but\n",
        "\n",
        "1.  Use numbers\n",
        "2.  to create\n",
        "3.  numbered lists.\n",
        "\n",
        "# A Level-1 Heading\n",
        "## B Level-2 Heading\n",
        "### C Level-3 Heading (etc)\n",
        "\n",
        "Line breaks\n",
        "don't matter.\n",
        "\n",
        "But blank lines\n",
        "create new paragraphs.\n",
        "\n",
        "[Create links](http://google.com/) with `[...](...)`.\n",
        "\n",
        "****"
      ]
    },
    {
      "cell_type": "markdown",
      "metadata": {
        "id": "yEq4ZX3kglaH"
      },
      "source": [
        "By default, cells in jupyter notebook are code cells, which means it's expecting you to enter Python code. But you can change the cell format by changing the dropdown item on the top from \"Code\" to \"Markdown\".\n",
        "\n",
        "Enter some markdown text in the cell below, and execute it. Be sure to change the cell from code to markdown!"
      ]
    },
    {
      "cell_type": "code",
      "execution_count": null,
      "metadata": {
        "id": "YIt6Zw6mglaH"
      },
      "outputs": [],
      "source": [
        ""
      ]
    },
    {
      "cell_type": "markdown",
      "metadata": {
        "id": "zHYPaSWGglaI"
      },
      "source": [
        "## Keyboard shortcuts\n",
        "\n",
        "There are many useful keyboard shortcuts in Jupyter Notebooks. Check some of them out [here](https://www.cheatography.com/weidadeyue/cheat-sheets/jupyter-notebook/)! Below are five essential ones. \n",
        "* When you click a **code** cell, the border is green (\"editing mode\") and means you can edit code in that cell. \n",
        "* We first need to turn this green border to blue (\"command mode\") before we can use the shortcuts (**markdown** cell borders are blue by default). \n",
        "\n",
        "Press the `Esc` key to ensure that a code cell border is blue, or simply click a markdown cell: \n",
        "\n",
        "1. Press the `a` key to add a cell above the current one\n",
        "2. Press `b` to add a cell below the current one\n",
        "3. Press `m` to convert the cell to markdown\n",
        "4. Press `y` to convert the cell to code\n",
        "5. Press `dd` to delete the current cell"
      ]
    },
    {
      "cell_type": "markdown",
      "metadata": {
        "id": "rldifJpaglaI"
      },
      "source": [
        "## Error Reporting"
      ]
    },
    {
      "cell_type": "markdown",
      "metadata": {
        "id": "f2jv6ixdglaI"
      },
      "source": [
        "What happens if you run this cell?"
      ]
    },
    {
      "cell_type": "code",
      "execution_count": null,
      "metadata": {
        "id": "24_ZkTIsglaJ",
        "colab": {
          "base_uri": "https://localhost:8080/"
        },
        "outputId": "cb9845fc-2de9-4b08-f6f6-2903669e4f5c"
      },
      "outputs": [
        {
          "output_type": "stream",
          "name": "stdout",
          "text": [
            "Or am I\n"
          ]
        }
      ],
      "source": [
        "print(\"Or am I\")"
      ]
    },
    {
      "cell_type": "markdown",
      "metadata": {
        "id": "3GKjh-iiglaJ"
      },
      "source": [
        "As you can see, Jupyter offers proper error reporting. But don't worry - Python is just trying to help fix something it can't understand!"
      ]
    },
    {
      "cell_type": "markdown",
      "metadata": {
        "id": "qBYlyfK2glaJ"
      },
      "source": [
        "## History"
      ]
    },
    {
      "cell_type": "markdown",
      "metadata": {
        "id": "gLy4GgekglaJ"
      },
      "source": [
        "In order to see all the commands you've run so far in the notebook, use the `%history` built-in command. This is unique to Jupyter Notebook. See more [here](http://ipython.readthedocs.io/en/stable/interactive/magics.html#magic-history)."
      ]
    },
    {
      "cell_type": "code",
      "execution_count": null,
      "metadata": {
        "id": "MvcY6V6uglaK",
        "colab": {
          "base_uri": "https://localhost:8080/"
        },
        "outputId": "c7676219-6a6d-4f65-f96c-1409f2b5b9cb"
      },
      "outputs": [
        {
          "output_type": "stream",
          "name": "stdout",
          "text": [
            "print(\"Hello World!\")\n",
            "a = 1 + 2\n",
            "print(a)\n",
            "i = 0\n",
            "i = i + 1\n",
            "print(i)\n",
            "a = 1\n",
            "b = 2\n",
            "c = 2\n",
            "d = a + b + c\n",
            "print(\"Or am I)\n",
            "print(\"Or am I\")\n",
            "%history\n"
          ]
        }
      ],
      "source": [
        "%history"
      ]
    },
    {
      "cell_type": "markdown",
      "metadata": {
        "id": "4DDPUJa1glaK"
      },
      "source": [
        "If you want to see your history for Python in interactive mode in the shell, check out the answers given [here](https://stackoverflow.com/questions/6558765/how-do-you-see-the-entire-command-history-in-interactive-python)."
      ]
    },
    {
      "cell_type": "markdown",
      "metadata": {
        "id": "EX0cFAorglaK"
      },
      "source": [
        "## Clearing Jupyter\n",
        "\n",
        "Jupyter remembers everything it executed, **even if it's not currently displayed in the notebook**.\n",
        "\n",
        "To clear everything from Jupyter use Kernel-->Restart in the menu."
      ]
    },
    {
      "cell_type": "code",
      "execution_count": null,
      "metadata": {
        "id": "ZY2DQlIoglaK"
      },
      "outputs": [],
      "source": [
        "mystring = \"And three shall be the count.\" \n",
        "\n",
        "print(mystring)"
      ]
    },
    {
      "cell_type": "markdown",
      "metadata": {
        "id": "6VupIJb3glaK"
      },
      "source": [
        "Now use Kernel-->Restart in the menu!"
      ]
    },
    {
      "cell_type": "code",
      "execution_count": null,
      "metadata": {
        "id": "RVYs9LojglaL"
      },
      "outputs": [],
      "source": [
        "print(mystring)"
      ]
    },
    {
      "cell_type": "markdown",
      "metadata": {
        "id": "54Rk5SPoglaL"
      },
      "source": [
        "Note that the error message contains a recap of the input that caused the error (with an arrow, no less!)   It is objecting that **mystring** is not defined, since we just reset it."
      ]
    },
    {
      "cell_type": "markdown",
      "metadata": {
        "id": "M1b0RP4bglaL"
      },
      "source": [
        "## Tab Completion\n",
        "\n",
        "Jupyter also allows for tab completion, just like many command line interpreters and text editors like Sublime Text. The way this works is that if you begin typing the name of something (e.g., a variable, a file in the current directory, etc.) that already exists, you can simply hit `TAB` and Jupyter will complete it for you. If there is more than one possibility, it will show them to you and you can choose from there. For example:"
      ]
    },
    {
      "cell_type": "code",
      "execution_count": null,
      "metadata": {
        "id": "2F5zwpscglaL"
      },
      "outputs": [],
      "source": [
        "test_me = 1"
      ]
    },
    {
      "cell_type": "markdown",
      "metadata": {
        "id": "8oLSaCL_glaL"
      },
      "source": [
        "Now simply type in `test` (or even just `te`) and hit `TAB`."
      ]
    },
    {
      "cell_type": "code",
      "execution_count": null,
      "metadata": {
        "id": "m2ZC5NKpglaL"
      },
      "outputs": [],
      "source": [
        ""
      ]
    },
    {
      "cell_type": "code",
      "execution_count": null,
      "metadata": {
        "id": "CcWhjy15glaM"
      },
      "outputs": [],
      "source": [
        "test_me_2 = 2"
      ]
    },
    {
      "cell_type": "markdown",
      "metadata": {
        "id": "Q_wZhP5ZglaN"
      },
      "source": [
        "Now try typing `te` and see what happens when you hit `TAB`."
      ]
    },
    {
      "cell_type": "code",
      "execution_count": null,
      "metadata": {
        "id": "Cxq980XBglaN"
      },
      "outputs": [],
      "source": [
        ""
      ]
    },
    {
      "cell_type": "markdown",
      "metadata": {
        "id": "eqdaTmnfglaN"
      },
      "source": [
        "## Commenting\n",
        "\n",
        "We will discuss how and why to comment code later in this series, but it's also useful when you temporarily don't want to run a section of code.\n",
        "\n",
        "Simply place a pound sign `#` at the beginning of the line, and that line won't run.\n",
        "\n",
        "Try running the cell below, then comment out `bad_thing`, and run it again."
      ]
    },
    {
      "cell_type": "code",
      "execution_count": null,
      "metadata": {
        "id": "ZYEnQTMnglaN",
        "colab": {
          "base_uri": "https://localhost:8080/",
          "height": 201
        },
        "outputId": "3fceeb74-a230-463f-d1a3-950db008f78f"
      },
      "outputs": [
        {
          "output_type": "error",
          "ename": "TypeError",
          "evalue": "ignored",
          "traceback": [
            "\u001b[0;31m---------------------------------------------------------------------------\u001b[0m",
            "\u001b[0;31mTypeError\u001b[0m                                 Traceback (most recent call last)",
            "\u001b[0;32m<ipython-input-9-15509d911c07>\u001b[0m in \u001b[0;36m<module>\u001b[0;34m()\u001b[0m\n\u001b[1;32m      1\u001b[0m \u001b[0mgood_thing\u001b[0m \u001b[0;34m=\u001b[0m \u001b[0;36m1\u001b[0m\u001b[0;34m+\u001b[0m\u001b[0;36m1\u001b[0m\u001b[0;34m\u001b[0m\u001b[0;34m\u001b[0m\u001b[0m\n\u001b[1;32m      2\u001b[0m \u001b[0;34m\u001b[0m\u001b[0m\n\u001b[0;32m----> 3\u001b[0;31m \u001b[0mbad_thing\u001b[0m \u001b[0;34m=\u001b[0m \u001b[0;34m'a'\u001b[0m \u001b[0;34m*\u001b[0m \u001b[0;34m'b'\u001b[0m\u001b[0;34m\u001b[0m\u001b[0;34m\u001b[0m\u001b[0m\n\u001b[0m",
            "\u001b[0;31mTypeError\u001b[0m: can't multiply sequence by non-int of type 'str'"
          ]
        }
      ],
      "source": [
        "good_thing = 1+1\n",
        "\n",
        "bad_thing = 'a' * 'b'"
      ]
    },
    {
      "cell_type": "markdown",
      "metadata": {
        "id": "mwReIPaOglaO"
      },
      "source": [
        "You can comment or uncomment multiple lines of code at once by selecting them and then hitting `Control + /`. Try it below."
      ]
    },
    {
      "cell_type": "code",
      "execution_count": null,
      "metadata": {
        "id": "wmD-iifTglaO"
      },
      "outputs": [],
      "source": [
        "good_thing = 1+1\n",
        "\n",
        "bad_thing_1 = 'a' * 'b'\n",
        "bad_thing_2 = good_thing[2]"
      ]
    },
    {
      "cell_type": "markdown",
      "metadata": {
        "id": "vadqIChWglaO"
      },
      "source": [
        "## Indenting\n",
        "\n",
        "Consistent indentation is essential in Python.\n",
        "\n",
        "To move multiple lines of code at once, you can select them and then hit `Control + ]` to indent them (move to the right), or `Control + [` to dedent them to the left.\n",
        "\n",
        "For Macs use `Command` in place of `Control`."
      ]
    },
    {
      "cell_type": "code",
      "execution_count": null,
      "metadata": {
        "id": "Vv4d93keglaO"
      },
      "outputs": [],
      "source": [
        "move_me = 1\n",
        "move_me_too = 'abc'"
      ]
    },
    {
      "cell_type": "markdown",
      "metadata": {
        "id": "00ubHEDxglaO"
      },
      "source": [
        "## Exiting Jupyter\n",
        "\n",
        "When you close your Jupyter notebook window, all of your values will be lost. But you can save your code for a later time.\n",
        "\n",
        "First go to File --> Close and Halt in order to shutdown the notebook you are using. Once all notebooks are shutdown, to end the Jupyter server, go back to the Anaconda Navigator and shut it down. You may get a warning dialog box alerting you that Jupyter Notebook is still running. Just click **Quit** to shut everything down."
      ]
    },
    {
      "cell_type": "markdown",
      "source": [
        "# Export as PDF in Colab"
      ],
      "metadata": {
        "id": "sMuuNMlUn7L3"
      }
    },
    {
      "cell_type": "markdown",
      "source": [
        "The file will be convert to PDF must be uploaded in colab directory (google drive) and just write this command. The result of this command is html file and can be opened using browser. Save it with PDF format."
      ],
      "metadata": {
        "id": "9SGtbTGVn_Rg"
      }
    },
    {
      "cell_type": "code",
      "source": [
        "!jupyter nbconvert --to html /content/knn.ipynb"
      ],
      "metadata": {
        "id": "zoGsNX0Xn6mK",
        "colab": {
          "base_uri": "https://localhost:8080/"
        },
        "outputId": "aae3669e-aa2b-4521-dde4-eabee92b318b"
      },
      "execution_count": null,
      "outputs": [
        {
          "output_type": "stream",
          "name": "stdout",
          "text": [
            "[NbConvertApp] Converting notebook /content/knn.ipynb to html\n",
            "[NbConvertApp] Writing 736970 bytes to /content/knn.html\n"
          ]
        }
      ]
    },
    {
      "cell_type": "markdown",
      "source": [
        "![image.png](data:image/png;base64,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)"
      ],
      "metadata": {
        "id": "XSFpy3UzoCo3"
      }
    },
    {
      "cell_type": "code",
      "source": [
        ""
      ],
      "metadata": {
        "id": "KlwBhLrXoC0p"
      },
      "execution_count": null,
      "outputs": []
    }
  ],
  "metadata": {
    "kernelspec": {
      "display_name": "Python 3",
      "language": "python",
      "name": "python3"
    },
    "language_info": {
      "codemirror_mode": {
        "name": "ipython",
        "version": 3
      },
      "file_extension": ".py",
      "mimetype": "text/x-python",
      "name": "python",
      "nbconvert_exporter": "python",
      "pygments_lexer": "ipython3",
      "version": "3.8.3"
    },
    "toc": {
      "base_numbering": 1,
      "nav_menu": {},
      "number_sections": false,
      "sideBar": true,
      "skip_h1_title": false,
      "title_cell": "Table of Contents",
      "title_sidebar": "Contents",
      "toc_cell": false,
      "toc_position": {},
      "toc_section_display": true,
      "toc_window_display": true
    },
    "varInspector": {
      "cols": {
        "lenName": 16,
        "lenType": 16,
        "lenVar": 40
      },
      "kernels_config": {
        "python": {
          "delete_cmd_postfix": "",
          "delete_cmd_prefix": "del ",
          "library": "var_list.py",
          "varRefreshCmd": "print(var_dic_list())"
        },
        "r": {
          "delete_cmd_postfix": ") ",
          "delete_cmd_prefix": "rm(",
          "library": "var_list.r",
          "varRefreshCmd": "cat(var_dic_list()) "
        }
      },
      "types_to_exclude": [
        "module",
        "function",
        "builtin_function_or_method",
        "instance",
        "_Feature"
      ],
      "window_display": false
    },
    "colab": {
      "name": "Labsheet 1a Praktik Struktur Data - Python",
      "provenance": [],
      "include_colab_link": true
    }
  },
  "nbformat": 4,
  "nbformat_minor": 0
}